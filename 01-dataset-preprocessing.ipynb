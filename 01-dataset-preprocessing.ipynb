{
 "cells": [
  {
   "cell_type": "markdown",
   "metadata": {
    "tags": []
   },
   "source": [
    "# Data Preprocessing at Scale with NVTabular and Vertex AI\n",
    "\n",
    "This notebook demonstrates how to preprocess data using NVIDIA NVTabular and Vertex AI. The notebook covers the following:  \n",
    "1. NVTabular Overview.  \n",
    "2. Preprocessing Criteo Dataset.  \n",
    "3. Preprocessing Pipeline on Vertex AI  \n",
    "3.1. CSV preprocessing pipeline execution.  \n",
    "3.2. BigQuery preprocessing pipeline execution.  \n"
   ]
  },
  {
   "cell_type": "markdown",
   "metadata": {
    "jp-MarkdownHeadingCollapsed": true,
    "tags": []
   },
   "source": [
    "## 1. NVTabular Overview\n",
    "\n",
    "[Merlin NVTabular](https://developer.nvidia.com/nvidia-merlin/nvtabular) is a feature engineering and preprocessing library designed to effectively manipulate \n",
    "large datasets and significantly reduce data preparation time, as follows:\n",
    "\n",
    "* Processes large datasets not bound by CPU or GPU memory.\n",
    "* Accelerates data preprocessing computation on GPUs using the RAPIDS cuDF library.\n",
    "* Supports multi-node scaling and multi-GPU with DASK-CUDA distributed parallelism.\n",
    "* Supports tabular data formats, including comma-separated values (CSV) files, Apache Parquet, Apache Orc, and Apache Avro.\n",
    "* Provides data loaders that are optimized for TensorFlow, PyTorch, and Merlin HugeCTR.\n",
    "* Includes multi-hot categoricals and vector continuous passing support to ease feature engineering.\n",
    "\n",
    "\n",
    "To preprocess the data, we need to define a transformation `workflow`.  \n",
    "Each transformation step in the transformation pipeline executes multiple calculations, called `ops`. \n",
    "NVTabular provides a [set of ops](https://nvidia.github.io/NVTabular/main/api/ops/index.html), which include:\n",
    "\n",
    " - Filtering outliers or missing values, or creating new features indicating that a value is missing;\n",
    " - Imputing and filling in missing data;\n",
    " - Discretization or bucketing of continuous features;\n",
    " - Creating features by splitting or combining existing features, for example, breaking down a date column into day-of-week, month-of-year, day-of-month features;\n",
    " - Normalizing numerical features to have zero mean and unit variance or applying transformations, for example with log transform;\n",
    " - Encoding discrete features using one-hot vectors or converting them to continuous integer indices.  \n",
    "\n",
    "NVTabular processes a dataset, given a pre-defined workflow, in two steps:\n",
    "\n",
    "1. The `fit` step, where NVTabular compute the statistics required for transforming the data. Such a step requires at most `N` passes through the data, where `N` is the number of chained operations in the workflow.\n",
    "2. The `apply` step, where NVTabular uses the fitted workflow to process the data. \n",
    "\n",
    "NVTabular is designed to minimize the number of passes through the data. This is achieved with a lazy execution strategy. Data operations are not executed until an explicit apply phase. This allows NVTabular to optimize the workflow that requires iteration over the entire dataset.\n",
    "\n"
   ]
  },
  {
   "cell_type": "markdown",
   "metadata": {
    "tags": []
   },
   "source": [
    "## 2. Preprocessing Criteo dataset\n",
    "\n",
    "The Criteo dataset contains over four billion samples spanning 24 CSV files. Each record contains 40 columns: 13 columns are numerical, 26 columns are categorical, and 1 binary target column. See [00-dataset-management.ipynb](00-dataset-management.ipynb) for more details.\n",
    "\n",
    "\n",
    "### NVTabular preprocessing Workflow for Criteo dataset\n",
    "\n",
    "In this example, the preprocessing `nvt.Workflow` consists for the following operations:\n",
    " - [Categorify](https://nvidia.github.io/NVTabular/v0.7.0/resources/api/ops/categorify.html): applied to categorical columns (column names that start with C). \n",
    " - [FillMissing](https://nvidia.github.io/NVTabular/v0.7.0/resources/api/ops/fillmissing.html): applied to continuous columns (column names that start with I).\n",
    " - [Clip](https://nvidia.github.io/NVTabular/v0.7.0/resources/api/ops/clip.html):  applied to continuous columns after FillMissing.\n",
    " - [Normalize](https://nvidia.github.io/NVTabular/v0.7.0/resources/api/ops/normalize.html): applied to continuous columns after Clip.\n",
    " \n",
    "\n",
    "![](images/dag_preprocessing.png)\n",
    " \n",
    " The `nvt.Workflow` is created in the `create_criteo_nvt_workflow` method, which can be found in [src/preprocessing/etl.py](src/preprocessing/etl.py) module. \n",
    " This `nvt.Workflow` will be used as a guide to calculate the necessary statistics, and execute the data transformation.  \n",
    " \n",
    "\n",
    "### Implementing the preprocessing pipelines using KFP\n",
    "\n",
    "[src/pipelines/preprocessing_pipelines.py](https://github.com/GoogleCloudPlatform/nvidia-merlin-on-vertex-ai/blob/main/src/pipelines/preprocessing_pipelines.py) defines the KFP pipelines to preprocess the Criteo data. \n",
    "The `preprocessing_csv` processes the CSV data files in Cloud Storage, while `preprocessing_bq` processes the data stored in BigQuery.\n",
    "\n",
    "A pipeline component is a self-contained set of code that performs one step in your ML workflow. The pipeline uses the following components defined in [src/pipelines/components.py](src/pipelines/components.py):\n",
    "\n",
    "1. `convert_csv_to_parquet_op`: this component converts raw CSV files to Parquet files, and store them to Cloud Storage. \n",
    "2. `analyze_dataset_op`: this component creates a Criteo preprocessing `nvt.Workflow`, fit it to the training data split, and store it to Cloud Storage.\n",
    "3. `transform_dataset_op`: this component loads the fitted `nvt.Workflow` from Cloud Storage, uses it to transform and input datas split, and store the transformed data as Parquet files to Cloud Storage.\n",
    "\n",
    "Each component is annotated with Inputs and Outputs to keep track of lineage metadata.\n",
    "The `base_image` used to execute the components is defined in [Dockerfile.nvtabular](Dockerfile.nvtabular). \n",
    "\n",
    "Each step in the pipeline is configured with the required CPU, memory and GPU configurations, as follows:\n",
    "\n",
    "```\n",
    "component_being_executed.set_cpu_limit(\"8\") # Number of CPUs\n",
    "component_being_executed.set_memory_limit(\"32G\") # Memory quantity\n",
    "component_being_executed.set_gpu_limit(\"1\") # Number of GPUs\n",
    "component_being_executed.add_node_selector_constraint('cloud.google.com/gke-accelerator', 'nvidia-tesla-t4') # GPU type\n",
    "```\n",
    "\n",
    "See [Specify machine type for a pipeline step](https://cloud.google.com/vertex-ai/docs/pipelines/build-pipeline#specify-machine-type) for more information.\n",
    "\n",
    "\n",
    "You can configure the pipeline by setting the variables in the [config.py](config.py) module.\n"
   ]
  },
  {
   "cell_type": "markdown",
   "metadata": {},
   "source": [
    "## Setup"
   ]
  },
  {
   "cell_type": "code",
   "execution_count": 1,
   "metadata": {},
   "outputs": [],
   "source": [
    "import os\n",
    "import json\n",
    "from datetime import datetime\n",
    "from google.cloud import aiplatform as vertex_ai\n",
    "from kfp.v2 import compiler"
   ]
  },
  {
   "cell_type": "code",
   "execution_count": 2,
   "metadata": {},
   "outputs": [],
   "source": [
    "PROJECT_ID = 'renatoleite-mldemos' # Change to your project Id.\n",
    "REGION = 'us-central1' # Change to your region.\n",
    "DATASET_GCS_LOCATION = 'gs://workshop-datasets/criteo'\n",
    "BUCKET =  'merlin-on-gcp' # Change to your bucket.\n",
    "\n",
    "VERSION = 'v01'\n",
    "MODEL_DISPLAY_NAME = f'criteo-merlin-recommender-{VERSION}'\n",
    "WORKSPACE = f'gs://{BUCKET}/{MODEL_DISPLAY_NAME}'\n",
    "\n",
    "IMAGE_NAME = 'nvt_preprocessing'\n",
    "IMAGE_URI = f'gcr.io/{PROJECT_ID}/{IMAGE_NAME}'\n",
    "DOCKERNAME = 'nvtabular'\n",
    "\n",
    "PREPROCESS_CSV_PIPELINE_NAME = 'nvt-csv-pipeline'\n",
    "PREPROCESS_CSV_PIPELINE_ROOT = os.path.join(WORKSPACE, PREPROCESS_CSV_PIPELINE_NAME)\n",
    "\n",
    "PREPROCESS_BQ_PIPELINE_NAME =  'nvt-bq-pipeline'\n",
    "PREPROCESS_BQ_PIPELINE_ROOT = os.path.join(WORKSPACE, PREPROCESS_BQ_PIPELINE_NAME)"
   ]
  },
  {
   "cell_type": "markdown",
   "metadata": {},
   "source": [
    "### Set pipeline configurations"
   ]
  },
  {
   "cell_type": "code",
   "execution_count": 3,
   "metadata": {},
   "outputs": [],
   "source": [
    "os.environ['PROJECT_ID'] = PROJECT_ID\n",
    "os.environ['REGION'] = REGION\n",
    "os.environ['BUCKET'] = BUCKET\n",
    "os.environ['WORKSPACE'] = WORKSPACE\n",
    "\n",
    "os.environ['NVT_IMAGE_URI'] = IMAGE_URI\n",
    "os.environ['PREPROCESS_CSV_PIPELINE_NAME'] = PREPROCESS_CSV_PIPELINE_NAME\n",
    "os.environ['PREPROCESS_CSV_PIPELINE_ROOT'] = PREPROCESS_CSV_PIPELINE_ROOT\n",
    "os.environ['DOCKERNAME'] = DOCKERNAME\n",
    "\n",
    "os.environ['MEMORY_LIMIT'] = '120G'\n",
    "os.environ['CPU_LIMIT'] = '32'\n",
    "os.environ['GPU_LIMIT'] = '4'\n",
    "os.environ['GPU_TYPE'] = 'nvidia-tesla-t4'"
   ]
  },
  {
   "cell_type": "markdown",
   "metadata": {},
   "source": [
    "### Initialize Vertex SDK client"
   ]
  },
  {
   "cell_type": "code",
   "execution_count": 4,
   "metadata": {},
   "outputs": [],
   "source": [
    "vertex_ai.init(\n",
    "    project=PROJECT_ID,\n",
    "    location=REGION,\n",
    "    staging_bucket=os.path.join(WORKSPACE, 'stg') \n",
    ")"
   ]
  },
  {
   "cell_type": "markdown",
   "metadata": {},
   "source": [
    "### Build Container Docker Image\n",
    "\n",
    "The following command will build the Docker container image to the NVTabular preprocessing steps of the pipeline and push it to the [Google Container Registry](https://cloud.google.com/container-registr). \n",
    "\n",
    "Note that building the Docker container image takes around 8 minutes."
   ]
  },
  {
   "cell_type": "code",
   "execution_count": 3,
   "metadata": {},
   "outputs": [
    {
     "name": "stdout",
     "output_type": "stream",
     "text": [
      "Creating temporary tarball archive of 57 file(s) totalling 5.0 MiB before compression.\n",
      "Uploading tarball of [.] to [gs://renatoleite-mldemos_cloudbuild/source/1637243053.593088-f43cafc781a34451af3f21646da82a65.tgz]\n",
      "Created [https://cloudbuild.googleapis.com/v1/projects/renatoleite-mldemos/locations/global/builds/169bc0a1-7f78-48ec-9ae9-243b02c7bbee].\n",
      "Logs are available at [https://console.cloud.google.com/cloud-build/builds/169bc0a1-7f78-48ec-9ae9-243b02c7bbee?project=464015718044].\n",
      "----------------------------- REMOTE BUILD OUTPUT ------------------------------\n",
      "starting build \"169bc0a1-7f78-48ec-9ae9-243b02c7bbee\"\n",
      "\n",
      "FETCHSOURCE\n",
      "Fetching storage object: gs://renatoleite-mldemos_cloudbuild/source/1637243053.593088-f43cafc781a34451af3f21646da82a65.tgz#1637243054327124\n",
      "Copying gs://renatoleite-mldemos_cloudbuild/source/1637243053.593088-f43cafc781a34451af3f21646da82a65.tgz#1637243054327124...\n",
      "\n",
      "Operation completed over 1 objects/4.1 MiB.\n",
      "BUILD\n",
      "Already have image (with digest): gcr.io/cloud-builders/docker\n",
      "\n",
      "Step 1/9 : FROM nvcr.io/nvidia/merlin/merlin-training:21.11\n",
      "21.11: Pulling from nvidia/merlin/merlin-training\n",
      "f3ef4ff62e0d: Pulling fs layer\n",
      "0a5a58fe9f80: Pulling fs layer\n",
      "ffe911d7d638: Pulling fs layer\n",
      "b6ca3d91503f: Pulling fs layer\n",
      "2153f05ef7a8: Pulling fs layer\n",
      "960ad9fc339d: Pulling fs layer\n",
      "423cea99f7d2: Pulling fs layer\n",
      "ea4474a67b49: Pulling fs layer\n",
      "b397fb86b3bc: Pulling fs layer\n",
      "927627363759: Pulling fs layer\n",
      "312d920fedcc: Pulling fs layer\n",
      "7a50c2cfea6b: Pulling fs layer\n",
      "06daa3d0f46c: Pulling fs layer\n",
      "aec116761f98: Pulling fs layer\n",
      "2812dcb9b1f1: Pulling fs layer\n",
      "0b40e0143bfd: Pulling fs layer\n",
      "0617ebfc4a21: Pulling fs layer\n",
      "45a7802e347f: Pulling fs layer\n",
      "9c3aac051d0f: Pulling fs layer\n",
      "c06cf176a9ca: Pulling fs layer\n",
      "6790e5e29cc3: Pulling fs layer\n",
      "896ac25d66a9: Pulling fs layer\n",
      "80d80c2cfdc2: Pulling fs layer\n",
      "e7f1cef75362: Pulling fs layer\n",
      "bdf8c87a1a84: Pulling fs layer\n",
      "1bf461175ebe: Pulling fs layer\n",
      "fd654c726f4a: Pulling fs layer\n",
      "76873c523e79: Pulling fs layer\n",
      "effc5db2aa06: Pulling fs layer\n",
      "a60c46fdf7d0: Pulling fs layer\n",
      "b6b9289498ea: Pulling fs layer\n",
      "0a10793bd84b: Pulling fs layer\n",
      "c87d1f0a04b6: Pulling fs layer\n",
      "7b2eba77ef4c: Pulling fs layer\n",
      "a145adaf9340: Pulling fs layer\n",
      "6e14961b99b2: Pulling fs layer\n",
      "b6ca3d91503f: Waiting\n",
      "2153f05ef7a8: Waiting\n",
      "960ad9fc339d: Waiting\n",
      "ea2478e27c7e: Pulling fs layer\n",
      "251c1eeefaf7: Pulling fs layer\n",
      "b5fbbe5ea6d2: Pulling fs layer\n",
      "3e1cfbb08e05: Pulling fs layer\n",
      "efa0b7a89966: Pulling fs layer\n",
      "eec57becc518: Pulling fs layer\n",
      "e9be4ccbe00f: Pulling fs layer\n",
      "d592036e1159: Pulling fs layer\n",
      "faae64cc9204: Pulling fs layer\n",
      "1a56b535907f: Pulling fs layer\n",
      "178700adcb6f: Pulling fs layer\n",
      "83f8ca3cf5b4: Pulling fs layer\n",
      "49c16b8def61: Pulling fs layer\n",
      "011faec4e563: Pulling fs layer\n",
      "3c0e7b604564: Pulling fs layer\n",
      "423cea99f7d2: Waiting\n",
      "c6fcc6e0e455: Pulling fs layer\n",
      "cd3cfaf399f6: Pulling fs layer\n",
      "ea4474a67b49: Waiting\n",
      "2c8a8a27a86e: Pulling fs layer\n",
      "b397fb86b3bc: Waiting\n",
      "3b72afd86f5d: Pulling fs layer\n",
      "927627363759: Waiting\n",
      "90f81b952237: Pulling fs layer\n",
      "312d920fedcc: Waiting\n",
      "54913dc17820: Pulling fs layer\n",
      "7955a479810f: Pulling fs layer\n",
      "7a50c2cfea6b: Waiting\n",
      "93e00ad2a9bb: Pulling fs layer\n",
      "06daa3d0f46c: Waiting\n",
      "9c5d1033c773: Pulling fs layer\n",
      "aec116761f98: Waiting\n",
      "f0877bd46df6: Pulling fs layer\n",
      "94ef551cf27c: Pulling fs layer\n",
      "2812dcb9b1f1: Waiting\n",
      "2ea294c565de: Pulling fs layer\n",
      "7d44f140b161: Pulling fs layer\n",
      "0b40e0143bfd: Waiting\n",
      "4a9cdf3fe6a3: Pulling fs layer\n",
      "b137dd5c5a1a: Pulling fs layer\n",
      "7010b2ea3dbb: Pulling fs layer\n",
      "45f545df0e51: Pulling fs layer\n",
      "3ee493357c48: Pulling fs layer\n",
      "f59fe9045e8d: Pulling fs layer\n",
      "b1b03852f3ff: Pulling fs layer\n",
      "f468deec27f0: Pulling fs layer\n",
      "ea6a94dda353: Pulling fs layer\n",
      "f6db6c12f235: Pulling fs layer\n",
      "e65a47147650: Pulling fs layer\n",
      "f6c0ec7f2701: Pulling fs layer\n",
      "4439d167ab3b: Pulling fs layer\n",
      "9a05b744b79a: Pulling fs layer\n",
      "0617ebfc4a21: Waiting\n",
      "45a7802e347f: Waiting\n",
      "9c3aac051d0f: Waiting\n",
      "c06cf176a9ca: Waiting\n",
      "6790e5e29cc3: Waiting\n",
      "896ac25d66a9: Waiting\n",
      "80d80c2cfdc2: Waiting\n",
      "e7f1cef75362: Waiting\n",
      "bdf8c87a1a84: Waiting\n",
      "1bf461175ebe: Waiting\n",
      "fd654c726f4a: Waiting\n",
      "76873c523e79: Waiting\n",
      "effc5db2aa06: Waiting\n",
      "a60c46fdf7d0: Waiting\n",
      "b6b9289498ea: Waiting\n",
      "0a10793bd84b: Waiting\n",
      "c87d1f0a04b6: Waiting\n",
      "7b2eba77ef4c: Waiting\n",
      "a145adaf9340: Waiting\n",
      "6e14961b99b2: Waiting\n",
      "ea2478e27c7e: Waiting\n",
      "251c1eeefaf7: Waiting\n",
      "b5fbbe5ea6d2: Waiting\n",
      "3e1cfbb08e05: Waiting\n",
      "efa0b7a89966: Waiting\n",
      "eec57becc518: Waiting\n",
      "e9be4ccbe00f: Waiting\n",
      "d592036e1159: Waiting\n",
      "faae64cc9204: Waiting\n",
      "1a56b535907f: Waiting\n",
      "178700adcb6f: Waiting\n",
      "83f8ca3cf5b4: Waiting\n",
      "49c16b8def61: Waiting\n",
      "011faec4e563: Waiting\n",
      "3c0e7b604564: Waiting\n",
      "c6fcc6e0e455: Waiting\n",
      "cd3cfaf399f6: Waiting\n",
      "2c8a8a27a86e: Waiting\n",
      "3b72afd86f5d: Waiting\n",
      "90f81b952237: Waiting\n",
      "54913dc17820: Waiting\n",
      "7955a479810f: Waiting\n",
      "93e00ad2a9bb: Waiting\n",
      "9c5d1033c773: Waiting\n",
      "f0877bd46df6: Waiting\n",
      "94ef551cf27c: Waiting\n",
      "2ea294c565de: Waiting\n",
      "7d44f140b161: Waiting\n",
      "4a9cdf3fe6a3: Waiting\n",
      "b137dd5c5a1a: Waiting\n",
      "7010b2ea3dbb: Waiting\n",
      "45f545df0e51: Waiting\n",
      "3ee493357c48: Waiting\n",
      "f59fe9045e8d: Waiting\n",
      "b1b03852f3ff: Waiting\n",
      "f468deec27f0: Waiting\n",
      "ea6a94dda353: Waiting\n",
      "f6db6c12f235: Waiting\n",
      "e65a47147650: Waiting\n",
      "f6c0ec7f2701: Waiting\n",
      "4439d167ab3b: Waiting\n",
      "913b367352df: Pulling fs layer\n",
      "2c45fcce43d0: Pulling fs layer\n",
      "9a05b744b79a: Waiting\n",
      "913b367352df: Waiting\n",
      "2c45fcce43d0: Waiting\n",
      "f3ef4ff62e0d: Verifying Checksum\n",
      "f3ef4ff62e0d: Download complete\n",
      "b6ca3d91503f: Verifying Checksum\n",
      "b6ca3d91503f: Download complete\n",
      "ffe911d7d638: Verifying Checksum\n",
      "ffe911d7d638: Download complete\n",
      "2153f05ef7a8: Verifying Checksum\n",
      "2153f05ef7a8: Download complete\n",
      "960ad9fc339d: Verifying Checksum\n",
      "960ad9fc339d: Download complete\n",
      "423cea99f7d2: Verifying Checksum\n",
      "423cea99f7d2: Download complete\n",
      "0a5a58fe9f80: Verifying Checksum\n",
      "0a5a58fe9f80: Download complete\n",
      "ea4474a67b49: Verifying Checksum\n",
      "ea4474a67b49: Download complete\n",
      "b397fb86b3bc: Verifying Checksum\n",
      "b397fb86b3bc: Download complete\n",
      "927627363759: Verifying Checksum\n",
      "927627363759: Download complete\n",
      "312d920fedcc: Verifying Checksum\n",
      "312d920fedcc: Download complete\n",
      "06daa3d0f46c: Verifying Checksum\n",
      "06daa3d0f46c: Download complete\n",
      "aec116761f98: Verifying Checksum\n",
      "aec116761f98: Download complete\n",
      "2812dcb9b1f1: Verifying Checksum\n",
      "2812dcb9b1f1: Download complete\n",
      "0b40e0143bfd: Verifying Checksum\n",
      "0b40e0143bfd: Download complete\n",
      "0617ebfc4a21: Verifying Checksum\n",
      "0617ebfc4a21: Download complete\n",
      "f3ef4ff62e0d: Pull complete\n",
      "45a7802e347f: Verifying Checksum\n",
      "45a7802e347f: Download complete\n",
      "9c3aac051d0f: Verifying Checksum\n",
      "9c3aac051d0f: Download complete\n",
      "c06cf176a9ca: Verifying Checksum\n",
      "c06cf176a9ca: Download complete\n",
      "6790e5e29cc3: Verifying Checksum\n",
      "6790e5e29cc3: Download complete\n",
      "80d80c2cfdc2: Verifying Checksum\n",
      "80d80c2cfdc2: Download complete\n",
      "e7f1cef75362: Verifying Checksum\n",
      "e7f1cef75362: Download complete\n",
      "896ac25d66a9: Verifying Checksum\n",
      "896ac25d66a9: Download complete\n",
      "bdf8c87a1a84: Verifying Checksum\n",
      "bdf8c87a1a84: Download complete\n",
      "fd654c726f4a: Verifying Checksum\n",
      "fd654c726f4a: Download complete\n",
      "1bf461175ebe: Verifying Checksum\n",
      "1bf461175ebe: Download complete\n",
      "effc5db2aa06: Verifying Checksum\n",
      "effc5db2aa06: Download complete\n",
      "a60c46fdf7d0: Verifying Checksum\n",
      "a60c46fdf7d0: Download complete\n",
      "b6b9289498ea: Verifying Checksum\n",
      "b6b9289498ea: Download complete\n",
      "0a10793bd84b: Verifying Checksum\n",
      "0a10793bd84b: Download complete\n",
      "76873c523e79: Verifying Checksum\n",
      "76873c523e79: Download complete\n",
      "c87d1f0a04b6: Verifying Checksum\n",
      "c87d1f0a04b6: Download complete\n",
      "a145adaf9340: Verifying Checksum\n",
      "a145adaf9340: Download complete\n",
      "6e14961b99b2: Verifying Checksum\n",
      "6e14961b99b2: Download complete\n",
      "ea2478e27c7e: Verifying Checksum\n",
      "ea2478e27c7e: Download complete\n",
      "0a5a58fe9f80: Pull complete\n",
      "ffe911d7d638: Pull complete\n",
      "7b2eba77ef4c: Verifying Checksum\n",
      "7b2eba77ef4c: Download complete\n",
      "b5fbbe5ea6d2: Verifying Checksum\n",
      "b5fbbe5ea6d2: Download complete\n",
      "3e1cfbb08e05: Download complete\n",
      "--------------------------------------------------------------------------------\n",
      "\u001b[1;31mERROR:\u001b[0m (gcloud.builds.submit) build 169bc0a1-7f78-48ec-9ae9-243b02c7bbee completed with status \"CANCELLED\"\n"
     ]
    }
   ],
   "source": [
    "FILE_LOCATION = './src'\n",
    "! gcloud builds submit --config src/cloudbuild.yaml --substitutions _DOCKERNAME=$DOCKERNAME,_IMAGE_URI=$IMAGE_URI,_FILE_LOCATION=$FILE_LOCATION"
   ]
  },
  {
   "cell_type": "markdown",
   "metadata": {},
   "source": [
    "## 3-1. CSV Preprocessing Pipeline Execution\n",
    "\n",
    "The CSV Criteo data preprocessing pipeline performs the following steps.  \n",
    "\n",
    " 1. Read CSV files from Cloud Storage.\n",
    " 2. Convert the CSV files to parquet format and write it Cloud Storage.\n",
    " 3. Fit a pre-defined NVTabular workflow to the training data split to calculate transformation statistics.\n",
    " 4. Transform the training and validation data splits using the fitted workflow.\n",
    " 5. Output transformed parquet files to Cloud Storage.\n",
    "\n",
    "\n",
    "<img src=\"./images/preprocessing_pipeline_csv.png\" alt=\"Pipeline\"/>"
   ]
  },
  {
   "cell_type": "markdown",
   "metadata": {},
   "source": [
    "### Converting CSV files to Parquet with NVTabular\n",
    "\n",
    "The Criteo dataset is provides in CSV format, but the recommended data format to run the NVTabular preprocessing task and get the best possible performance is [Parquet](http://parquet.apache.org/documentation/latest/); a compressed, column-oriented file structure format. While NVTabular also supports reading from CSV files, reading  \n",
    "Parquet files can 2X faster than reading CSV files.  \n",
    "\n",
    "To convert the Criteo CSV data to Parquet, the following steps are performed:\n",
    "\n",
    "1. Create a `nvt.Dataset` object the CSV data using the `create_csv_dataset` method in [src/preprocessing/etl.py](src/preprocessing/etl.py).\n",
    "2. Convert the CSV data to Parquet, and write it to Cloud Storahe using the `convert_csv_to_parquet` method in [src/preprocessing/etl.py](src/preprocessing/etl.py).\n",
    "\n",
    "The pipeline uses the `convert_csv_to_parquet_op` component, which is implemented in [src/pipelines/components.py](src/pipelines/components.py)."
   ]
  },
  {
   "cell_type": "markdown",
   "metadata": {},
   "source": [
    "### Create pipeline parameters\n",
    "\n",
    "In NVTabular, NVIDIA provides an option to shuffle the dataset before storing to disk.  \n",
    "The uniformly shuffled dataset enables the data loader to read in contiguous chunks of data that are already randomized across the entire dataset.\n",
    "NVTabular provides the option to control the number of chunks that are combined into a batch, allowing the end user flexibility when trading off between performance and true randomization.  \n",
    "This mechanism is critical when dealing with datasets that exceed CPU memory and per-epoch shuffling is desired during training.  \n",
    "Full shuffling of such a dataset can exceed training time for the epoch by several orders of magnitude."
   ]
  },
  {
   "cell_type": "code",
   "execution_count": 5,
   "metadata": {},
   "outputs": [],
   "source": [
    "TRAIN_PATHS = ['gs://workshop-datasets/criteo/day_1'] # Training CSV file to be preprocessed.\n",
    "VALID_PATHS = ['gs://workshop-datasets/criteo/day_0'] # Validation CSV file to be preprocessed.\n",
    "sep = '\\t' # Separator for the CSV file.\n",
    "num_output_files_train = 4\n",
    "num_output_files_valid = 4"
   ]
  },
  {
   "cell_type": "code",
   "execution_count": 6,
   "metadata": {},
   "outputs": [],
   "source": [
    "csv_parameter_values = {\n",
    "    'train_paths': json.dumps(TRAIN_PATHS),\n",
    "    'valid_paths': json.dumps(VALID_PATHS),\n",
    "    'sep': sep,\n",
    "    'shuffle': json.dumps(None), # select PER_PARTITION, PER_WORKER, FULL, or None.\n",
    "    'num_output_files_train': num_output_files_train,\n",
    "    'num_output_files_valid': num_output_files_valid\n",
    "}"
   ]
  },
  {
   "cell_type": "markdown",
   "metadata": {},
   "source": [
    "### Compile KFP pipeline"
   ]
  },
  {
   "cell_type": "code",
   "execution_count": 7,
   "metadata": {},
   "outputs": [],
   "source": [
    "from src.pipelines.preprocessing_pipelines import preprocessing_csv\n",
    "\n",
    "csv_compiled_pipeline_path = f'{PREPROCESS_CSV_PIPELINE_NAME}.json'\n",
    "compiler.Compiler().compile(\n",
    "       pipeline_func=preprocessing_csv,\n",
    "       package_path=csv_compiled_pipeline_path\n",
    ")"
   ]
  },
  {
   "cell_type": "markdown",
   "metadata": {},
   "source": [
    "### Submit job to Vertex AI Pipelines"
   ]
  },
  {
   "cell_type": "code",
   "execution_count": null,
   "metadata": {},
   "outputs": [],
   "source": [
    "job_name = f'{datetime.now().strftime(\"%Y%m%d%H%M%S\")}_{PREPROCESS_CSV_PIPELINE_NAME}'\n",
    "\n",
    "pipeline_job = vertex_ai.PipelineJob(\n",
    "    display_name=job_name,\n",
    "    template_path=csv_compiled_pipeline_path,\n",
    "    enable_caching=False,\n",
    "    parameter_values=csv_parameter_values,\n",
    ")\n",
    "\n",
    "pipeline_job.submit()"
   ]
  },
  {
   "cell_type": "markdown",
   "metadata": {},
   "source": [
    "## 3-2. BigQuery Preprocessing Pipeline Execution\n",
    "\n",
    "The BigQuery Criteo data preprocessing pipeline performs the following steps.  \n",
    "\n",
    " 1. Read the data from BigQuery tables.\n",
    " 2. Export the BigQuery data to Cloud Storage as Parquet files.\n",
    " 3. Fit a pre-defined NVTabular workflow to the training data split to calculate transformation statistics.\n",
    " 4. Transform the training and validation data splits using the fitted workflow.\n",
    " 5. Output transformed parquet files to Cloud Storage.\n",
    "\n",
    "\n",
    "<img src=\"./images/preprocessing_pipeline_bq.png\" alt=\"Pipeline\"/>"
   ]
  },
  {
   "cell_type": "markdown",
   "metadata": {},
   "source": [
    "### Exporting BigQuery data to Cloud Storage as Parquet files.\n",
    "\n",
    "In order to use the NVTabular to preprocess the BigQuery data, the data must be exported to Cloud Storage as Parquet files.\n",
    "The `extract_table_from_bq` method in the [src/preprocessing/etl.py](src/preprocessing/etl.py) module exports the data from a BigQuery table to Cloud Storage as Paquet files. It uses the [extract_table](https://googleapis.dev/python/bigquery/latest/generated/google.cloud.bigquery.client.Client.html#google.cloud.bigquery.client.Client.extract_table) API in the [BigQuery Python SDK](https://cloud.google.com/bigquery/docs/reference/libraries#client-libraries-install-python). The pipeline step is defined in the `export_parquet_from_bq_op` component in [src/pipelines/components.py](src/pipelines/components.py)."
   ]
  },
  {
   "cell_type": "markdown",
   "metadata": {},
   "source": [
    "### Set pipeline configurations"
   ]
  },
  {
   "cell_type": "code",
   "execution_count": null,
   "metadata": {},
   "outputs": [],
   "source": [
    "BQ_DATASET_NAME = 'criteo_pipeline' # Set to your BigQuery dataset including the Criteo dataset.\n",
    "BQ_LOCATION = 'us' # Set to your BigQuery dataset location.\n",
    "BQ_TRAIN_TABLE_NAME = 'train'\n",
    "BQ_VALID_TABLE_NAME = 'valid'\n",
    "\n",
    "os.environ['PREPROCESS_BQ_PIPELINE_NAME'] = PREPROCESS_BQ_PIPELINE_NAME\n",
    "os.environ['PREPROCESS_BQ_PIPELINE_ROOT'] = PREPROCESS_BQ_PIPELINE_ROOT\n",
    "\n",
    "os.environ['BQ_DATASET_NAME'] = BQ_DATASET_NAME\n",
    "os.environ['BQ_LOCATION'] = BQ_LOCATION\n",
    "os.environ['BQ_TRAIN_TABLE_NAME'] = BQ_TRAIN_TABLE_NAME\n",
    "os.environ['BQ_VALID_TABLE_NAME'] = BQ_VALID_TABLE_NAME"
   ]
  },
  {
   "cell_type": "markdown",
   "metadata": {},
   "source": [
    "### Create pipeline parameters"
   ]
  },
  {
   "cell_type": "code",
   "execution_count": null,
   "metadata": {},
   "outputs": [],
   "source": [
    "bq_parameter_values = {\n",
    "    'shuffle': json.dumps(None) # select PER_PARTITION, PER_WORKER, FULL, or None.\n",
    "}"
   ]
  },
  {
   "cell_type": "markdown",
   "metadata": {},
   "source": [
    "### Compile KFP pipeline"
   ]
  },
  {
   "cell_type": "code",
   "execution_count": null,
   "metadata": {},
   "outputs": [],
   "source": [
    "from src.pipelines.preprocessing_pipelines import preprocessing_bq\n",
    "\n",
    "bq_compiled_pipeline_path = f'{PREPROCESS_BQ_PIPELINE_NAME}.json'\n",
    "compiler.Compiler().compile(\n",
    "       pipeline_func=preprocessing_bq,\n",
    "       package_path=bq_compiled_pipeline_path\n",
    ")"
   ]
  },
  {
   "cell_type": "markdown",
   "metadata": {},
   "source": [
    "### Submit job to Vertex AI Pipelines"
   ]
  },
  {
   "cell_type": "code",
   "execution_count": null,
   "metadata": {},
   "outputs": [],
   "source": [
    "job_name = f'{datetime.now().strftime(\"%Y%m%d%H%M%S\")}_{PREPROCESS_BQ_PIPELINE_NAME}'\n",
    "\n",
    "pipeline_job = vertex_ai.PipelineJob(\n",
    "    display_name=job_name,\n",
    "    template_path=bq_compiled_pipeline_path,\n",
    "    enable_caching=False,\n",
    "    parameter_values=bq_parameter_values,\n",
    ")\n",
    "\n",
    "pipeline_job.submit()"
   ]
  },
  {
   "cell_type": "markdown",
   "metadata": {},
   "source": [
    "## Next Steps\n",
    "After completing this notebook you can proceed to the [02-model-training-hugectr.ipynb](02-model-training-hugectr.ipynb) notebook that demonstrates how to train DeepFM model using NVIDIA HugeCTR and Vertex AI."
   ]
  }
 ],
 "metadata": {
  "environment": {
   "name": "common-cpu.m81",
   "type": "gcloud",
   "uri": "gcr.io/deeplearning-platform-release/base-cpu:m81"
  },
  "interpreter": {
   "hash": "d4d1e4263499bec80672ea0156c357c1ee493ec2b1c70f0acce89fc37c4a6abe"
  },
  "kernelspec": {
   "display_name": "Python 3.7.10 64-bit ('base': conda)",
   "name": "python3"
  },
  "language_info": {
   "codemirror_mode": {
    "name": "ipython",
    "version": 3
   },
   "file_extension": ".py",
   "mimetype": "text/x-python",
   "name": "python",
   "nbconvert_exporter": "python",
   "pygments_lexer": "ipython3",
   "version": "3.7.10"
  }
 },
 "nbformat": 4,
 "nbformat_minor": 4
}
