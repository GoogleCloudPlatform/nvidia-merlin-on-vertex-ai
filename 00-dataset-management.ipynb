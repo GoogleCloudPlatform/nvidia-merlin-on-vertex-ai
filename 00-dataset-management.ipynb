{
 "cells": [
  {
   "cell_type": "markdown",
   "id": "17335967-7809-425d-9a3c-00242c2cf1ea",
   "metadata": {},
   "source": [
    "# Criteo Dataset\n",
    "\n",
    "The [Criteo 1TB Click Logs](https://ailab.criteo.com/download-criteo-1tb-click-logs-dataset/) dataset is the largest publicly available dataset for recommender systems. \n",
    "It contains ~1.3 TB of uncompressed click logs containing over four billion samples spanning 24 days. \n",
    "Each record contains 40 columns:\n",
    "\n",
    "* **Label**: Target variable that indicates if an ad was clicked (1) or not (0).\n",
    "* **I1-I13**: A total of 13 columns of integer features (mostly count features).\n",
    "* **C1-C26**: A total of 26 columns of categorical features. The values of these features have been hashed onto 32 bits for anonymization purposes. \n",
    "\n",
    "The semantic of these features is undisclosed, some features may have missing values, the rows are chronologically ordered and the columns are **tab separated** with the following schema:\n",
    "```\n",
    "<label> <integer feature 1> … <integer feature 13> <categorical feature 1> … <categorical feature 26>\n",
    "```\n",
    "\n",
    "Criteo provides a separate compressed .gz data file for each day, with a size of ~15GB. In order to use Vertex AI, the data needs to be a in Google [Cloud Storage](https://cloud.google.com/storage) bucket, uncompressed. We have prepared an uncompressed version of the Criteo dataset in the `gs://workshop-datasets/criteo` publically-accessible Cloud Storage. You can use the data directly from this location. \n",
    "\n",
    "Alternatively, you will need to download the data files from the original Criteo website, uncompress the data files, and upload the uncompressed data file to your own Cloud Storage location. Note that each day takes ~20-30min to download and extract it.\n",
    "\n",
    "\n",
    "This notebook covers:\n",
    "1. Exploring TSV data files in Cloud Storage\n",
    "2. Loading the TSV data files from Cloud Storage to BigQuery\n",
    "3. Validating the load data in BigQuery"
   ]
  },
  {
   "cell_type": "markdown",
   "id": "5117cae9-1166-4838-ae90-7e4a2ea87aca",
   "metadata": {},
   "source": [
    "## Setup"
   ]
  },
  {
   "cell_type": "code",
   "execution_count": null,
   "id": "9f9bb402-d318-4165-b25d-5f945259a7e3",
   "metadata": {},
   "outputs": [],
   "source": [
    "import pandas as pd\n",
    "import matplotlib.pyplot as plt"
   ]
  },
  {
   "cell_type": "code",
   "execution_count": null,
   "id": "8006cad8-1d7f-469d-8f12-3762ee02fefd",
   "metadata": {},
   "outputs": [],
   "source": [
    "PROJECT = 'merlin-on-gcp'\n",
    "REGION = 'us-central1'\n",
    "DATASET_GCS_LOCATION = 'gs://workshop-datasets/criteo'\n",
    "BQ_DATASET_NAME = 'criteo'\n",
    "BQ_TRAIN_TABLE_NAME = 'train'\n",
    "BQ_VALID_TABLE_NAME = 'valid'"
   ]
  },
  {
   "cell_type": "markdown",
   "id": "9bf318fe-ed5e-41b8-a0a9-3a70224a51a7",
   "metadata": {},
   "source": [
    "## 1. Explore Criteo data files"
   ]
  },
  {
   "cell_type": "code",
   "execution_count": null,
   "id": "9036145c-6934-4450-b5f5-7ea1b1efa1bb",
   "metadata": {},
   "outputs": [],
   "source": [
    "! gsutil ls {DATASET_GCS_LOCATION}"
   ]
  },
  {
   "cell_type": "code",
   "execution_count": null,
   "id": "aa309b1c-aad5-4a32-bf66-41adcb9f0793",
   "metadata": {},
   "outputs": [],
   "source": [
    "HEADER = [\"label\"]\n",
    "for i in range(1, 14):\n",
    "    HEADER.append(f\"num_feature_{i}\")\n",
    "for i in range(1, 27):\n",
    "    HEADER.append(f\"cat_feature_{i}\")"
   ]
  },
  {
   "cell_type": "code",
   "execution_count": null,
   "id": "7254c6bb-aefa-4da0-b038-c2ce91d79587",
   "metadata": {},
   "outputs": [],
   "source": [
    "sample_size = 500000\n",
    "\n",
    "day1_dataset = pd.read_csv(\n",
    "    f\"{DATASET_GCS_LOCATION}/day_1\",\n",
    "    sep=\"\\t\",\n",
    "    names=HEADER,\n",
    "    nrows=sample_size,\n",
    "    \n",
    ")"
   ]
  },
  {
   "cell_type": "code",
   "execution_count": null,
   "id": "2dd170bd-12f8-421a-9d6b-a4fc968d9b8f",
   "metadata": {},
   "outputs": [],
   "source": [
    "day1_dataset.head(5).T"
   ]
  },
  {
   "cell_type": "code",
   "execution_count": null,
   "id": "ae9e586b-6a3b-4fb5-8811-be21ffad850a",
   "metadata": {},
   "outputs": [],
   "source": [
    "day1_dataset.label.value_counts()"
   ]
  },
  {
   "cell_type": "code",
   "execution_count": null,
   "id": "da59146c-f9f0-4b37-a8ba-d50657961b35",
   "metadata": {},
   "outputs": [],
   "source": [
    "day1_dataset.describe()"
   ]
  },
  {
   "cell_type": "markdown",
   "id": "90f04c51-6843-4719-8ee0-a40034e783a6",
   "metadata": {},
   "source": [
    "## 2. Load data to BigQuery"
   ]
  },
  {
   "cell_type": "markdown",
   "id": "e6072b41-272c-4699-8d08-c80badadbd37",
   "metadata": {},
   "source": [
    "### Create destination BigQuery dataset"
   ]
  },
  {
   "cell_type": "code",
   "execution_count": null,
   "id": "8cc8ff0f-a3ce-4dad-bb4c-2fc0356600db",
   "metadata": {},
   "outputs": [],
   "source": [
    "!bq --location=US mk -d \\\n",
    "$PROJECT:$BQ_DATASET_NAME"
   ]
  },
  {
   "cell_type": "markdown",
   "id": "ed49943c-8680-4f79-af40-3e8a43d2234b",
   "metadata": {},
   "source": [
    "### Load data from Cloud Storage to BigQuery"
   ]
  },
  {
   "cell_type": "code",
   "execution_count": null,
   "id": "c633be6a-d7b4-457b-bd18-22385dff203c",
   "metadata": {},
   "outputs": [],
   "source": [
    "schema = []\n",
    "for column in HEADER:\n",
    "    if \"cat\" in column:\n",
    "        schema.append(f\"{column}:STRING\")\n",
    "    else:\n",
    "        schema.append(f\"{column}:INT64\")\n",
    "schema = ','.join(schema)"
   ]
  },
  {
   "cell_type": "code",
   "execution_count": null,
   "id": "e4575364-8b1c-40bb-9ec8-5f6a69826d68",
   "metadata": {},
   "outputs": [],
   "source": [
    "train_files = []\n",
    "for v in range(23):\n",
    "    train_files.append(f'\"{DATASET_GCS_LOCATION}/day_{v}\"')\n",
    "\n",
    "train_files = ','.join(train_files)"
   ]
  },
  {
   "cell_type": "code",
   "execution_count": null,
   "id": "964a3f05-0a92-44de-827a-96d145be701b",
   "metadata": {},
   "outputs": [],
   "source": [
    "!bq load \\\n",
    "    --source_format=CSV \\\n",
    "    --field_delimiter=tab \\\n",
    "    --autodetect \\\n",
    "    --replace \\\n",
    "    {BQ_DATASET_NAME}.{BQ_TRAIN_TABLE_NAME} \\\n",
    "    {train_files} \\\n",
    "    {schema}"
   ]
  },
  {
   "cell_type": "code",
   "execution_count": null,
   "id": "5f78c15a-7bee-4748-882b-f92a04e34297",
   "metadata": {},
   "outputs": [],
   "source": [
    "!bq load \\\n",
    "    --source_format=CSV \\\n",
    "    --field_delimiter=tab \\\n",
    "    --autodetect \\\n",
    "    --replace \\\n",
    "    {BQ_DATASET_NAME}.{BQ_VALID_TABLE_NAME} \\\n",
    "    {DATASET_GCS_LOCATION}/day_23 \\\n",
    "    {schema}"
   ]
  },
  {
   "cell_type": "markdown",
   "id": "9e817b1d-0023-4914-bf20-9656f3048551",
   "metadata": {},
   "source": [
    "## 3. Validate the data in BigQuery"
   ]
  },
  {
   "cell_type": "code",
   "execution_count": null,
   "id": "c0c80e65-2fba-4345-9afc-fa8a65371edf",
   "metadata": {},
   "outputs": [],
   "source": [
    "%%bigquery --project {PROJECT}\n",
    "\n",
    "SELECT COUNT(*)\n",
    "FROM criteo.train "
   ]
  },
  {
   "cell_type": "markdown",
   "id": "fea9a221-f183-4232-81e9-d7a74808d2c7",
   "metadata": {},
   "source": [
    "The loaded records should be ~4.19 billion."
   ]
  },
  {
   "cell_type": "code",
   "execution_count": null,
   "id": "59dd30b8-25d6-4039-9ecb-32b0579f72fe",
   "metadata": {},
   "outputs": [],
   "source": [
    "%%bigquery --project {PROJECT}\n",
    "\n",
    "SELECT COUNT(*)\n",
    "FROM criteo.valid "
   ]
  },
  {
   "cell_type": "markdown",
   "id": "b88a72f8-53b0-4d4d-9528-ffbb7a2ffba6",
   "metadata": {},
   "source": [
    "The loaded records should be ~178 million."
   ]
  },
  {
   "cell_type": "code",
   "execution_count": null,
   "id": "cf4864a3-4b6e-4562-8caf-bafb4ffdce71",
   "metadata": {},
   "outputs": [],
   "source": [
    "%%bigquery --project {PROJECT}\n",
    "\n",
    "SELECT \n",
    "    label, \n",
    "    ROUND(COUNT(*) / (SELECT COUNT(*) FROM criteo.1tb_click_logs) * 100,2) percentage,\n",
    "FROM criteo.train \n",
    "GROUP BY label"
   ]
  },
  {
   "cell_type": "code",
   "execution_count": null,
   "id": "9beba022-a6cf-4336-bedd-1b32b4049f3b",
   "metadata": {},
   "outputs": [],
   "source": [
    "%%bigquery --project {PROJECT}\n",
    "\n",
    "SELECT *\n",
    "FROM criteo.train \n",
    "LIMIT 10"
   ]
  },
  {
   "cell_type": "code",
   "execution_count": null,
   "id": "d07caf13-ee31-4fd8-a4ab-add0e4c790ce",
   "metadata": {},
   "outputs": [],
   "source": []
  }
 ],
 "metadata": {
  "environment": {
   "kernel": "python3",
   "name": "managed-notebooks.m82",
   "type": "gcloud",
   "uri": "gcr.io/merlin-on-gcp/dongm-merlin-train-hugectr:latest"
  },
  "language_info": {
   "codemirror_mode": {
    "name": "ipython",
    "version": 3
   },
   "file_extension": ".py",
   "mimetype": "text/x-python",
   "name": "python",
   "nbconvert_exporter": "python",
   "pygments_lexer": "ipython3",
   "version": "3.8.10"
  }
 },
 "nbformat": 4,
 "nbformat_minor": 5
}
