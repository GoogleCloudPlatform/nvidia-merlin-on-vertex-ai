{
 "cells": [
  {
   "cell_type": "markdown",
   "id": "f7086876-72ed-4ac8-aeba-f05dbc641798",
   "metadata": {},
   "source": [
    "# Training Large Recommender Models with NVIDIA Merlin HugeCTR and Vertex AI\n",
    "\n",
    "This notebook demonstrates how to use Vertex AI Training to operationalize training and hyperparameter tuning of large scale deep learning models developed with [NVIDIA Merlin HugeCTR](https://developer.nvidia.com/nvidia-merlin/hugectr) framework. The notebook compiles prescriptive guidance for the following tasks:\n",
    "\n",
    "- Building a custom Vertex training container derived from NVIDIA NGC Merlin Training image\n",
    "- Configuring, submitting and monitoring a Vertex custom training job\n",
    "- Configuring, submitting and monitoring a Vertex hyperparameter tuning job\n",
    "- Retrieving and analyzing results of a hyperparameter tuning job\n",
    "\n",
    "The deep learning model used in this sample is [DeepFM](https://arxiv.org/abs/1703.04247) - a Factorization-Machine based Neural Network for CTR Prediction. The HugeCTR implementation of this model used in this notebook has been configured for the [Criteo dataset](https://ailab.criteo.com/download-criteo-1tb-click-logs-dataset/). \n",
    "\n",
    "## 1. NVIDIA Merlin HugeCTR Overview\n",
    "\n",
    "[Merlin HugeCTR](https://github.com/NVIDIA-Merlin/HugeCTR) is NVIDIA's GPU-accelerated, highly scalable recommender framework. We highly encourage reviewing the [HugeCTR User Guide](https://github.com/NVIDIA-Merlin/HugeCTR/blob/master/docs/hugectr_user_guide.md) before proceeding with this notebook.\n",
    "\n",
    "Merlin HugeCTR facilitates highly scalable implementations of leading deep learning recommender models including Google's [Wide and Deep](https://arxiv.org/abs/1606.07792), Facebook's [DLRM](https://ai.facebook.com/blog/dlrm-an-advanced-open-source-deep-learning-recommendation-model/), and the [DeepFM](https://arxiv.org/abs/1703.04247) model used in this notebook.\n",
    "\n",
    "A unique feature of HugeCTR is support for model-parallel embedding tables. Applying model-parallelism for embedding tables enables massive scalability. Industrial grade deep learning recommendation systems most often employ very large embedding tables. User and item embedding tables - cornerstones of any recommender - can easily exceed tens of millions of rows. Without model-parallelism it would be impossible to fit embedding tables this large in the memory of a single device - especially when using large embeddng vectors. In HugeCTR, embedding tables can span device memory across multiple GPUs on a single node or even across GPUs in a large distributed cluster. \n",
    "\n",
    "HugeCTR supports multiple model-parallelism configurations for embedding tables. Refer to [the HugeCTR API reference](https://github.com/NVIDIA-Merlin/HugeCTR/blob/master/docs/hugectr_layer_book.md#embedding-types-detail) for detailed descriptions. In the DeepFM implementation used in this notebook, we utilize the `LocalizedSlotSparseEmbeddingHash` embedding type. In this embedding type, an embedding table is segmented into multiple slots or feature fields. Each slot stores embeddings for a single categorical feature. A given slot is allocated to a single GPU and it does not span multiple GPUs. However; in a multi GPU environment different slots can be allocated to different GPUs. \n",
    "\n",
    "The following diagram demonstrates an example configuration on a single node with multiple GPU - a hardware topology used by Vertex jobs in this notebook.\n",
    "\n",
    "\n",
    "<img src=\"./images/deepfm.png\" alt=\"Model parallel embeddings\" style=\"width: 50%;\"/>\n",
    "\n",
    "\n",
    "The Criteo dataset has 26 categorical features so there are 26 slots in the embedding table. Cardinalities of categorical variables vary from tens of milions to low teens so the dimensions of slots vary accordingly. Each slot in the embedding table utilizes an embedding vector of the same size. Note that the distribution of slots across GPUs is handled by HugeCTR; you don't have to explicitly pin a slot to a GPU.\n",
    "\n",
    "Dense layers of the DeepFM models are replicated on all GPUs using a canonical data-parallel pattern. \n",
    "\n",
    "A choice of an optimizer is critical when training large deep learning recommender systems. Different optimizers may result in significantly different convergence rates impacting both time (cost) to train and a final model performance. Since large recommender systems are often retrained on frequent basis minimizing time to train is one of the key design objectives for a training workflow. In this notebook we use the Adam optimizer that has been proved to work well with many deep learning recommeder system architectures.\n",
    "\n",
    "You can find the code that implements the DeepFM model in the [src/training/hugectr/trainer/model.py](https://github.com/GoogleCloudPlatform/nvidia-merlin-on-vertex-ai/blob/main/src/training/hugectr/model.py) file. \n",
    "\n",
    "\n",
    "## 2. Model Training Overview\n",
    "\n",
    "The training workflow has been optimized for Vertex AI Training. \n",
    "- Google Cloud Storage (GCS) and Vertex Training GCS Fuse are used for accessing training and validation data\n",
    "- A single node, multiple GPUs worker pool is used for Vertex Training jobs.\n",
    "- Training code has been instrumented to support hyperparameter tuning using Vertex Training Hyperparameter Tuning Job. \n",
    "\n",
    "You can find the code that implements the training workflow in the [src/training/hugectr/trainer/task.py](https://github.com/GoogleCloudPlatform/nvidia-merlin-on-vertex-ai/blob/main/src/training/hugectr/task.py) file.\n",
    "\n",
    "### Training data access\n",
    "\n",
    "Large deep learning  recommender systems are trained on massive datasets often hundreds of terabytes in size. Maintaining high-throughput when streaming training data to GPU workers is of critical importance. HugeCTR features a highly efficient multi-threaded data reader that parallelizes data reading and model computations. The reader accesses training data through a file system interface. The reader cannot directly access object storage systems like Google Cloud Storage, which is a canonical storage system for large scale training and validation datasets in Vertex AI Training. To expose Google Cloud Storage through a file system interface, the notebook uses an integrated feature of Vertex AI  - Google Cloud Storage FUSE. Vertex AI GCS FUSE provides a high performance file system interface layer to GCS that is self-tuning and requires minimal configuration. The following diagram depicts the training data access configuration:\n",
    "\n",
    "<img src=\"images/gcsfuse.png\" alt=\"GCS Fuse\" style=\"width:50%\"/>\n",
    "\n",
    "\n",
    "### Vertex AI Training worker pool configuration\n",
    "\n",
    "HugeCTR supports both single node, multiple GPU configurations and multiple node, multiple GPU distributed cluster topologies. In this sample, we use a single node, multiple GPU configuration. Due to the computational complexity of modern deep learning recommender models we recommend using Vertex Training A2 series machines for large models implemented with HugeCTR. The A2 machines can be configured with up to 16 A100 GPUs, 96 vCPUs, and 1,360GBs RAM. Each A100 GPU has 40GB of device memory. These are powerful configurations that can handle complex models with large embeddings.\n",
    "\n",
    "In this sample we use the `a2-highgpu-4g` machine type. \n",
    "\n",
    "Both custom training and hyperparameter tuning Vertex AI jobs demonstrated in this notebook are configured to use a [custom training container](https://cloud.google.com/vertex-ai/docs/training/containers-overview). The container is a derivative of [NVIDIA NGC Merlin training container](https://ngc.nvidia.com/catalog/containers/nvidia:merlin:merlin-training). The definition of the container image is found in the [Dockefile.hugectr](https://github.com/GoogleCloudPlatform/nvidia-merlin-on-vertex-ai/blob/main/src/Dockerfile.hugectr) file.\n",
    "\n",
    "### HugeCTR hyperparameter tuning with Vertex AI\n",
    "\n",
    "The training module has been instrumented to support [hyperparameter tuning with Vertex AI](https://cloud.google.com/vertex-ai/docs/training/hyperparameter-tuning-overview). The custom container includes the [cloudml-hypertune package](https://github.com/GoogleCloudPlatform/cloudml-hypertune), which is used to report the results of model evaluations to Vertex AI hypertuning service. The following diagram depicts the training flow implemeted by the training module.\n",
    "\n",
    "\n",
    "<img src=\"images/hugectrtrainer.png\" alt=\"Training regime\" style=\"width:20%\"/>\n",
    "\n",
    "\n",
    "Note that as of HugeCTR v3.2 release, the `hugectr.inference.InferenceSession.evaluate` method used in the trainer module only supports the *AUC* evaluation metric.\n"
   ]
  },
  {
   "cell_type": "markdown",
   "id": "df66aa44-bcc2-4f16-96f3-385673c40869",
   "metadata": {},
   "source": [
    "## 3. Executing Model Training on Vertex AI\n",
    "\n",
    "This notebook assumes that the Criteo dataset has been preprocessed using the preprocessing workflow detailed in the [01-dataset-preprocessing.ipynb](https://github.com/GoogleCloudPlatform/nvidia-merlin-on-vertex-ai/blob/main/01-dataset-preprocessing.ipynb) notebook and the resulting Parquet training and validation splits, and the processed data schema have been stored in Google Cloud Storage.\n",
    "\n",
    "As you walk through the notebook you will execute the following steps:\n",
    "- Configure notebook environment settings, including GCP project, compute region, and the GCS locations of training and validation data splits.\n",
    "- Build a custom Vertex training container based on NVIDIA NGC Merlin Training container\n",
    "- Configure and submit a Vertex custom training job\n",
    "- Configure and submit a Vertex hyperparameter training job\n",
    "- Retrieve the results of the hyperparameter tuning job"
   ]
  },
  {
   "cell_type": "markdown",
   "id": "d220b131-5631-48e5-bb44-1e544a661929",
   "metadata": {},
   "source": [
    "## Setup\n",
    "\n",
    "In this section of the notebook you configure your environment settings, including a GCP project, a GCP compute region, a Vertex AI service account and a Vertex AI staging bucket. You also set the locations of training and validation splits, and their schema as created in the [01-dataset-preprocessing.ipynb](01-dataset-preprocessing.ipynb) notebook.\n",
    "\n",
    "Make sure to update the below cells with the values reflecting your environment."
   ]
  },
  {
   "cell_type": "code",
   "execution_count": null,
   "id": "8093d528-3304-4793-919b-6cfda2524a7e",
   "metadata": {},
   "outputs": [],
   "source": [
    "import json\n",
    "import os\n",
    "import time\n",
    "\n",
    "from google.cloud import aiplatform as vertex_ai\n",
    "from google.cloud.aiplatform import hyperparameter_tuning as hpt"
   ]
  },
  {
   "cell_type": "code",
   "execution_count": null,
   "id": "acb263c2-b3c2-4739-911c-cc88470241bb",
   "metadata": {},
   "outputs": [],
   "source": [
    "# Project definitions\n",
    "PROJECT = '<YOUR PROJECT ID>' # Change to your project.\n",
    "REGION = '<LOCATION OF RESOURCES>'  # Change to your region.\n",
    "\n",
    "# Bucket definitions\n",
    "BUCKET = '<YOUR BUCKET NAME>' # Change to your bucket.\n",
    "VERSION = 'v00'\n",
    "MODEL_NAME = 'deepfm'\n",
    "MODEL_DISPLAY_NAME = f'hugectr-{MODEL_NAME}-{VERSION}'\n",
    "WORKSPACE = f'gs://{BUCKET}/{MODEL_DISPLAY_NAME}'\n",
    "\n",
    "# Service Account address\n",
    "VERTEX_SA = f'vertex-sa@{PROJECT}.iam.gserviceaccount.com' # Change to your service account with Vertex AI Admin permitions.\n",
    "\n",
    "# Docker definitions for training\n",
    "IMAGE_NAME = 'hugectr-training'\n",
    "IMAGE_URI = f'gcr.io/{PROJECT}/{IMAGE_NAME}'\n",
    "DOCKERNAME = 'hugectr'\n",
    "\n",
    "# Dataset information for training / validation / schema. The path must point to the file _gcs_file_list.txt\n",
    "# The path MUST start with `/gcs/<bucket_name>/...` to be used as a GCSfuse path.\n",
    "# The following examples is a path to a bucket create by the previous notebook (preprocessing with NVTabular)\n",
    "# Please change to your path.\n",
    "TRAIN_DATA = '/gcs/merlin-on-gcp/criteo-hugectr-deepfm-v04/merlin-training-pipeline/375468928805/merlin-training-pipeline-20220307195917/transform-dataset-op_5647107113420324864/transformed_dataset/_gcs_file_list.txt'\n",
    "VALID_DATA = '/gcs/merlin-on-gcp/criteo-hugectr-deepfm-v04/merlin-training-pipeline/375468928805/merlin-training-pipeline-20220307195917/transform-dataset-op-2_-3576264923434450944/transformed_dataset/_gcs_file_list.txt'\n",
    "\n",
    "# Schema used by the training pipepine\n",
    "# The path must point to the file schema.pbtxt\n",
    "SCHEMA_PATH = '/gcs/merlin-on-gcp/criteo-hugectr-deepfm-v04/merlin-training-pipeline/375468928805/merlin-training-pipeline-20220307195917/transform-dataset-op_5647107113420324864/transformed_dataset/schema.pbtxt'"
   ]
  },
  {
   "cell_type": "markdown",
   "id": "f0720d5f-a368-4c44-b31e-f3869f02ec39",
   "metadata": {},
   "source": [
    "### Initialize Vertex AI SDK"
   ]
  },
  {
   "cell_type": "code",
   "execution_count": null,
   "id": "5e6370bb-96a3-4432-8899-3b4b723fe5f2",
   "metadata": {},
   "outputs": [],
   "source": [
    "vertex_ai.init(\n",
    "    project=PROJECT,\n",
    "    location=REGION,\n",
    "    staging_bucket=os.path.join(WORKSPACE, 'stg')\n",
    ")"
   ]
  },
  {
   "cell_type": "markdown",
   "id": "4d69c76b-9720-4168-8073-243d9d9ae06b",
   "metadata": {},
   "source": [
    "## Submit a Vertex custom training job\n",
    "\n",
    "In this section of the notebook you define, submit and monitor a Vertex custom training job. As noted in the introduction, the job uses a custom training container that is a derivative of [NVIDIA NGC Merlin training container image](https://ngc.nvidia.com/catalog/containers/nvidia:merlin:merlin-training). The custom container image packages the training module which includes a DeepFM model definition - [src/training/hugectr/model.py](https://github.com/GoogleCloudPlatform/nvidia-merlin-on-vertex-ai/blob/main/src/training/hugectr/model.py) and a training and evaluation workflow\" - [src/training/hugectr/task.py](https://github.com/GoogleCloudPlatform/nvidia-merlin-on-vertex-ai/blob/main/src/training/hugectr/task.py). The custom container image also installs the `cloudml-hypertune` package for integration with Vertex AI hypertuning."
   ]
  },
  {
   "cell_type": "markdown",
   "id": "15de3552-4302-4d07-a830-3aeb1bdf4ca8",
   "metadata": {},
   "source": [
    "### Build a custom training container"
   ]
  },
  {
   "cell_type": "code",
   "execution_count": null,
   "id": "546fe200-8638-4cda-936f-bd091a2c9cad",
   "metadata": {
    "tags": []
   },
   "outputs": [],
   "source": [
    "FILE_LOCATION = './src'\n",
    "! gcloud builds submit --config src/cloudbuild.yaml --substitutions _DOCKERNAME=$DOCKERNAME,_IMAGE_URI=$IMAGE_URI,_FILE_LOCATION=$FILE_LOCATION --timeout=2h --machine-type=e2-highcpu-8"
   ]
  },
  {
   "cell_type": "markdown",
   "id": "233c8bd9-01f0-470e-8031-c72fabeae6ac",
   "metadata": {},
   "source": [
    "### Configure a custom training job\n",
    "\n",
    "The training module accepts a set of parameters that allow you to fine tune the DeepFM model implementation and configure the training workflow. Most of the  parameters exposed by the training module map directly to the settings used in [HugeCTR Python Inteface](https://github.com/NVIDIA-Merlin/HugeCTR/blob/master/docs/python_interface.md#createsolver-method). \n",
    "\n",
    " - `NUM_EPOCHS`: The training workflow can run in either an epoch mode or a non-epoch mode. When the constant `NUM_EPOCHS` is set to a value greater than zero the model will be trained on the `NUM_EPOCHS` number of full epochs, where an epoch is defined as a single pass through all examples in the training data. \n",
    " \n",
    " - `MAX_ITERATIONS`: If `NUM_EPOCHS` is set to zero, you must set `MAX_ITERATIONS` to a value greater than zero. `MAX_ITERATIONS` defines the number of batches to train the model on. When `NUM_EPOCHS` is greater than zero `MAX_ITERATIONS` is ignored.\n",
    "\n",
    "- `EVAL_INTERVAL` and `EVAL_BATCHES`: The model will be evaluated every `EVAL_INTERVAL` training batches using the `EVAL_BATCHES` validation batches during the main training loop. In the current implementation the evaluation metric is `AUC`.\n",
    "\n",
    "- `EVAL_BATCHES_FINAL`: After the main training loop completes, a final evaluation will be run using the `EVAL_BATCHES_FINAL`. The `AUC` value returned is reported to Vertex AI hypertuner.\n",
    "\n",
    "- `DISPLAY_INTERVAL`: Training progress will be reported every `DISPLAY_INTERVAL` batches.\n",
    "\n",
    "- `SNAPSHOT_INTERVAL`: When set to a value greater than zero, a snapshot will be saved every `SNAPSHOT_INTERVAL` batches.\n",
    "\n",
    "- `PER_GPU_BATCH_SIZE`: Per GPU batch size. This value should be set through experimentation and depends on model architecture, training features, and GPU type. It is highly dependent on device memory available in a particular GPU. In our scenario - DeepFM, Criteo datasets, and A100 GPU - a batch size of 2048 works well.\n",
    "\n",
    "- `LR`: The base learning rate for the HugeCTR solver.\n",
    "\n",
    "- `DROPOUT_RATE`: The base dropout rate used in DeepFM dense layers.\n",
    "\n",
    "- `NUM_WORKERS`: The number of HugeCTR data reader workers that concurrently load data. This value should be estimated through experimentation. This is a per GPU value. The default, which works well on A100 GPUs is 12. For the optimal performance `NUM_WORKERS` should be aligned with the number of files (shards) in the training data. \n",
    "\n",
    "- `SCHEMA`: The path to the `schema.pbtxt` file generated during the transformation phase. It is required to exract the cardinalities categorical features.\n"
   ]
  },
  {
   "cell_type": "markdown",
   "id": "f0180acd-e969-4523-baf6-f4c30b5d0e5c",
   "metadata": {},
   "source": [
    "#### Set HugeCTR model and trainer configuration"
   ]
  },
  {
   "cell_type": "code",
   "execution_count": null,
   "id": "977f768e-3d0d-4367-9e12-5e20cbc3aef8",
   "metadata": {},
   "outputs": [],
   "source": [
    "# Training parameters\n",
    "NUM_EPOCHS = 0\n",
    "MAX_ITERATIONS = 25000\n",
    "EVAL_INTERVAL = 1000\n",
    "EVAL_BATCHES = 500\n",
    "EVAL_BATCHES_FINAL = 2500\n",
    "DISPLAY_INTERVAL = 200\n",
    "SNAPSHOT_INTERVAL = 0\n",
    "PER_GPU_BATCH_SIZE = 2048\n",
    "LR = 0.001\n",
    "DROPOUT_RATE = 0.5\n",
    "NUM_WORKERS = 12"
   ]
  },
  {
   "cell_type": "markdown",
   "id": "2674a616",
   "metadata": {},
   "source": [
    "To train the model with HugeCTR, you must inform the cardinalities of the categorical features.  \n",
    "This information can be retrieve from the fitted workflow from the execution of the previous notebook (preprocessing pipeline).  \n",
    "\n",
    "To demonstrate how to use HugeCTR, we provided this information in the next cell.  \n",
    "The last notebook in this series, end-to-end pipeline, this information is generated automatically by the pipeline."
   ]
  },
  {
   "cell_type": "code",
   "execution_count": null,
   "id": "4c5bd420",
   "metadata": {},
   "outputs": [],
   "source": [
    "cardinalities = [\n",
    "    227605433, \n",
    "    39061, \n",
    "    17296, \n",
    "    7425, \n",
    "    20266, \n",
    "    4, \n",
    "    7123, \n",
    "    1544, \n",
    "    64, \n",
    "    130229468, \n",
    "    3067956, \n",
    "    405283, \n",
    "    11, \n",
    "    2209, \n",
    "    11939, \n",
    "    155, \n",
    "    4, \n",
    "    977, \n",
    "    15, \n",
    "    292775615, \n",
    "    40790949, \n",
    "    187188511, \n",
    "    590152, \n",
    "    12974, \n",
    "    109, \n",
    "    37\n",
    "]\n",
    "\n",
    "cardinalities = ' '.join([str(c) for c in cardinalities])"
   ]
  },
  {
   "cell_type": "markdown",
   "id": "e9fa0148-c742-49e3-9e7e-758ab513d555",
   "metadata": {},
   "source": [
    "#### Set training node configuration\n",
    "\n",
    "As described in the overview, we use a single node, multiple GPU worker pool configuration. For a complex deep learning model like DeepFM, we recommend using A2 machines that are equipped with A100 GPUs. \n",
    "\n",
    "In this sample we use a `a2-highgpu-1g` machine. For production systems, you may consider even more powerful configurations - `a2-highgpu-8g` with 8 A100 GPUs or `a2-megagpu-16g` with 16 A100 GPUs."
   ]
  },
  {
   "cell_type": "code",
   "execution_count": null,
   "id": "bcdcf631-d25a-4190-9429-1c19ad70ad4f",
   "metadata": {},
   "outputs": [],
   "source": [
    "MACHINE_TYPE = 'a2-highgpu-1g'\n",
    "ACCELERATOR_TYPE = 'NVIDIA_TESLA_A100'\n",
    "ACCELERATOR_NUM = 1"
   ]
  },
  {
   "cell_type": "markdown",
   "id": "ece569ba-9faf-46ff-be12-4ae1c64af83b",
   "metadata": {},
   "source": [
    "#### Configure worker pool specifications\n",
    "\n",
    "In this cell we configure a worker pool specification for a Vertex Custom Training job. Refer to [Vertex AI Training documentation](https://cloud.google.com/vertex-ai/docs/training/create-custom-job) for more details. "
   ]
  },
  {
   "cell_type": "code",
   "execution_count": null,
   "id": "0a5bfc83-506a-459a-89d9-6a6963722a25",
   "metadata": {},
   "outputs": [],
   "source": [
    "gpus = json.dumps([list(range(ACCELERATOR_NUM))]).replace(' ','')\n",
    "                 \n",
    "worker_pool_specs =  [\n",
    "    {\n",
    "        \"machine_spec\": {\n",
    "            \"machine_type\": MACHINE_TYPE,\n",
    "            \"accelerator_type\": ACCELERATOR_TYPE,\n",
    "            \"accelerator_count\": ACCELERATOR_NUM,\n",
    "        },\n",
    "        \"replica_count\": 1,\n",
    "        \"container_spec\": {\n",
    "            \"image_uri\": IMAGE_URI,\n",
    "            \"command\": [\"python\", \"-m\", \"task\"],\n",
    "            \"args\": [\n",
    "                f'--per_gpu_batch_size={PER_GPU_BATCH_SIZE}',\n",
    "                f'--model_name={MODEL_NAME}',\n",
    "                f'--train_data={TRAIN_DATA}', \n",
    "                f'--valid_data={VALID_DATA}',\n",
    "                f'--schema={SCHEMA_PATH}',\n",
    "                f'--slot_size_array={cardinalities}',\n",
    "                f'--max_iter={MAX_ITERATIONS}',\n",
    "                f'--max_eval_batches={EVAL_BATCHES}',\n",
    "                f'--eval_batches={EVAL_BATCHES_FINAL}',\n",
    "                f'--dropout_rate={DROPOUT_RATE}',\n",
    "                f'--lr={LR}',\n",
    "                f'--num_workers={NUM_WORKERS}',\n",
    "                f'--num_epochs={NUM_EPOCHS}',\n",
    "                f'--eval_interval={EVAL_INTERVAL}',\n",
    "                f'--snapshot={SNAPSHOT_INTERVAL}',\n",
    "                f'--display_interval={DISPLAY_INTERVAL}',\n",
    "                f'--gpus={gpus}',\n",
    "            ],\n",
    "        },\n",
    "    }\n",
    "]"
   ]
  },
  {
   "cell_type": "markdown",
   "id": "f9d9e340-5733-42fe-bceb-8d338e31bec0",
   "metadata": {},
   "source": [
    "### Submit and monitor the job\n",
    "\n",
    "When submitting a training job using the `aiplatfom.CustomJob` API you can configure the `job.run` function to block till the job completes or return control to the notebook immediately after the job is submitted. You control it with the `sync` argument. "
   ]
  },
  {
   "cell_type": "code",
   "execution_count": 8,
   "id": "f1301906-919b-4dc7-af5c-402e19c8b879",
   "metadata": {},
   "outputs": [],
   "source": [
    "job_name = 'hugectr_{}'.format(time.strftime(\"%Y%m%d_%H%M%S\"))\n",
    "base_output_dir =  os.path.join(WORKSPACE, job_name)\n",
    "\n",
    "job = vertex_ai.CustomJob(\n",
    "    display_name=job_name,\n",
    "    worker_pool_specs=worker_pool_specs,\n",
    "    base_output_dir=base_output_dir\n",
    ")\n",
    "job.run(\n",
    "    sync=True,\n",
    "    service_account=VERTEX_SA,\n",
    "    restart_job_on_worker_restart=False\n",
    ")"
   ]
  },
  {
   "cell_type": "markdown",
   "id": "68064a1a-c71a-4b86-82a4-7a723c0b55e2",
   "metadata": {},
   "source": [
    "## Submit and monitor a Vertex hyperparameter tuning job\n",
    "\n",
    "In this section of the notebook, you configure, submit and monitor a [Vertex AI raining hyperparameter tuning](https://cloud.google.com/vertex-ai/docs/training/hyperparameter-tuning-overview) job. We will demonstrate how to use Vertex Training hyperparameter tuning to find optimal values for the base learning rate and the dropout ratio. This example can be easily extended to other parameters - e.g. the batch size or even the optimizer type.\n",
    "\n",
    "As noted in the overview, the training module has been instrumented to integrate with Vertex AI Training hypertuning. After the final evaluation is completed, the AUC value calculated on the `EVAL_BATCHES_FINAL` number of batches from the validation dataset is reported to Vertex AI Training using the `report_hyperparameter_tuning_metric`. When the training module is executed in the context of a Vertex Custom Job this code path has no effect. When used with a Vertex AI Training hyperparameter job, the job is configured to use the AUC as a metric to optimize.\n",
    "\n",
    "\n"
   ]
  },
  {
   "cell_type": "markdown",
   "id": "8704e299-c23f-4a3c-a097-2ba3ce42e5b9",
   "metadata": {},
   "source": [
    "### Configure a hyperparameter job\n",
    "\n",
    "To prepare a Vertex Training hyperparameter tuning job you need to configure a worker pool specificatin and a hyperparameter study configuration. Configuring a worker pool is virtually the same as with a Custom Job. The only difference is that you don't need to explicitly pass values of hyperparameters being tuned to a training container. They will be provided by the hyperparameter tuning service.\n",
    "\n",
    "\n",
    "To configure a hyperparameter study you need to define a metric to optimize, an optimization goal, and a set of configurations for hyperparameters to tune.\n",
    "\n",
    "In our case the metric is AUC, the optimization goal is to maximize AUC, and the hyperparameters are `lr`, and `dropout_rate`. Notice that you have to match the name of the metric with the name used to report the metric in the training module. You also have to match the names of the hyperparameters with the respective names of command line parameters in your training container.\n",
    "\n",
    "For each hyperparameter you specify a strategy to apply for sampling values from the hyperparameter's domain. For the `lr` hyperparameter we configure the tuning service to sample values from a continuous range between 0.001 to 0.01 using a logarithmic scale. For the `dropout_rate` we provide a list of discrete values to choose from.\n",
    "\n",
    "For more information about configuring a hyperparameter study refer to [Vertex AI Hyperparameter job configuration](https://cloud.google.com/vertex-ai/docs/training/using-hyperparameter-tuning)."
   ]
  },
  {
   "cell_type": "code",
   "execution_count": null,
   "id": "f0425cdf-07bc-4cf5-b3f7-858fdbc40fc2",
   "metadata": {},
   "outputs": [],
   "source": [
    "metric_spec = {'AUC': 'maximize'}\n",
    "\n",
    "parameter_spec = {\n",
    "    'lr': hpt.DoubleParameterSpec(min=0.001, max=0.01, scale='log'),\n",
    "    'dropout_rate': hpt.DiscreteParameterSpec(values=[0.4, 0.5, 0.6], scale=None),\n",
    "}"
   ]
  },
  {
   "cell_type": "markdown",
   "id": "4dbadf45-f41b-4c99-a620-fd73062b072d",
   "metadata": {},
   "source": [
    "### Submit and monitor the job\n",
    "\n",
    "We can now submit a hyperparameter tuning job. When submitting the job you specify a maximum number of trials to attempt and how many trials to run in parallel. "
   ]
  },
  {
   "cell_type": "code",
   "execution_count": null,
   "id": "00435e4d-6833-4034-9bad-e2f46a1c75a2",
   "metadata": {},
   "outputs": [],
   "source": [
    "job_name = 'HUGECTR_HTUNING_{}'.format(time.strftime(\"%Y%m%d_%H%M%S\"))\n",
    "base_output_dir = os.path.join(WORKSPACE, \"model_training\", job_name)\n",
    "\n",
    "custom_job = vertex_ai.CustomJob(\n",
    "    display_name=job_name,\n",
    "    worker_pool_specs=worker_pool_specs,\n",
    "    base_output_dir=base_output_dir\n",
    ")\n",
    "\n",
    "hp_job = vertex_ai.HyperparameterTuningJob(\n",
    "    display_name=job_name,\n",
    "    custom_job=custom_job,\n",
    "    metric_spec=metric_spec,\n",
    "    parameter_spec=parameter_spec,\n",
    "    max_trial_count=4,\n",
    "    parallel_trial_count=2,\n",
    "    search_algorithm=None)\n",
    "\n",
    "hp_job.run(\n",
    "    sync=True,\n",
    "    service_account=VERTEX_SA,\n",
    "    restart_job_on_worker_restart=False\n",
    ")"
   ]
  },
  {
   "cell_type": "markdown",
   "id": "2832fbaa-f32e-4bac-b53b-5b0639cd28bc",
   "metadata": {},
   "source": [
    "### Retrieve trial results\n",
    "\n",
    "After a hyperparameter tuning job completes you can retrieve the trial results from the job object. The results are returned as a list of trial records. To retrieve the trial with the best value of a metric - AUC - you need to scan through all trial records."
   ]
  },
  {
   "cell_type": "code",
   "execution_count": null,
   "id": "dbcda9bf-3c5e-48ee-a75c-8dc197f96c56",
   "metadata": {},
   "outputs": [],
   "source": [
    "hp_job.trials"
   ]
  },
  {
   "cell_type": "markdown",
   "id": "940f589c-4fc2-4a85-a56a-d099abb1853a",
   "metadata": {},
   "source": [
    "#### Find the best trial"
   ]
  },
  {
   "cell_type": "code",
   "execution_count": null,
   "id": "e73e15b4-e033-42d8-9363-848d69557102",
   "metadata": {},
   "outputs": [],
   "source": [
    "best_trial = sorted(hp_job.trials, \n",
    "                    key=lambda trial: trial.final_measurement.metrics[0].value, \n",
    "                    reverse=True)[0]\n",
    "\n",
    "print(\"Best trial ID:\", best_trial.id)\n",
    "print(\"   AUC:\", best_trial.final_measurement.metrics[0].value)\n",
    "print(\"   LR:\", best_trial.parameters[1].value)\n",
    "print(\"   Dropout rate:\", best_trial.parameters[0].value)"
   ]
  },
  {
   "cell_type": "markdown",
   "id": "1d9397c3-9f79-4f93-9691-bd40113fefa8",
   "metadata": {},
   "source": [
    "## Next Steps"
   ]
  },
  {
   "cell_type": "markdown",
   "id": "5251c1cc-46f9-4a0d-adee-0e6bb37b81e7",
   "metadata": {},
   "source": [
    "After completing this notebook you can proceed to the [03-inference-triton-huygectr.ipynb](https://github.com/GoogleCloudPlatform/nvidia-merlin-on-vertex-ai/blob/main/03-model-inference-hugectr.ipynb) notebook that demonstrates how to deploy the DeepFM model trained in this notebook using NVIDIA Triton Inference Server."
   ]
  }
 ],
 "metadata": {
  "environment": {
   "kernel": "python3",
   "name": "managed-notebooks.m87",
   "type": "gcloud",
   "uri": "gcr.io/deeplearning-platform-release/managed-notebooks:m87"
  },
  "interpreter": {
   "hash": "d4d1e4263499bec80672ea0156c357c1ee493ec2b1c70f0acce89fc37c4a6abe"
  },
  "kernelspec": {
   "display_name": "Python 3",
   "language": "python",
   "name": "python3"
  },
  "language_info": {
   "codemirror_mode": {
    "name": "ipython",
    "version": 3
   },
   "file_extension": ".py",
   "mimetype": "text/x-python",
   "name": "python",
   "nbconvert_exporter": "python",
   "pygments_lexer": "ipython3",
   "version": "3.8.10"
  }
 },
 "nbformat": 4,
 "nbformat_minor": 5
}
