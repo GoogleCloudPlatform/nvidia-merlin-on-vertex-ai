{
 "cells": [
  {
   "cell_type": "markdown",
   "metadata": {},
   "source": [
    "# Inference"
   ]
  },
  {
   "cell_type": "markdown",
   "metadata": {},
   "source": [
    "# Define global variables and imports"
   ]
  },
  {
   "cell_type": "code",
   "execution_count": null,
   "metadata": {},
   "outputs": [],
   "source": [
    "import json\n",
    "import os\n",
    "import shutil\n",
    "import time\n",
    "\n",
    "from pathlib import Path\n",
    "from src.serving import export\n",
    "from src import feature_utils\n",
    "\n",
    "from google.cloud import aiplatform as vertex_ai"
   ]
  },
  {
   "cell_type": "code",
   "execution_count": null,
   "metadata": {},
   "outputs": [],
   "source": [
    "PROJECT_ID = 'jk-mlops-dev' # Change to your project.\n",
    "REGION = 'us-central1'  # Change to your region.\n",
    "STAGING_BUCKET = 'jk-merlin-dev' # Change to your bucket."
   ]
  },
  {
   "cell_type": "markdown",
   "metadata": {},
   "source": [
    "# Build docker image"
   ]
  },
  {
   "cell_type": "code",
   "execution_count": null,
   "metadata": {},
   "outputs": [],
   "source": [
    "! docker build -t gcr.io/$PROJECT_ID/hugectr-training:$IMAGE_VERSION -f ../src/Dockerfile.hugectr ../src/"
   ]
  },
  {
   "cell_type": "markdown",
   "metadata": {},
   "source": [
    "# Define variables for Inference"
   ]
  },
  {
   "cell_type": "code",
   "execution_count": null,
   "metadata": {},
   "outputs": [],
   "source": [
    "LOCAL_WORKSPACE = '/home/jupyter/staging'\n",
    "MODEL_ARTIFACTS_REPOSITORY = f'gs://{STAGING_BUCKET}/models'"
   ]
  },
  {
   "cell_type": "code",
   "execution_count": null,
   "metadata": {},
   "outputs": [],
   "source": [
    "MODEL_NAME = 'deepfm'\n",
    "MODEL_VERSION = 'v01'\n",
    "MODEL_DISPLAY_NAME = f'criteo-hugectr-{MODEL_NAME}-{MODEL_VERSION}'\n",
    "MODEL_DESCRIPTION = 'HugeCTR DeepFM model'\n",
    "ENDPOINT_DISPLAY_NAME = f'hugectr-{MODEL_NAME}-{MODEL_VERSION}'"
   ]
  },
  {
   "cell_type": "code",
   "execution_count": null,
   "metadata": {},
   "outputs": [],
   "source": [
    "WORKFLOW_MODEL_PATH = \"gs://criteo-datasets/criteo_processed_parquet/workflow\" # Change to GCS path of the nvt workflow.\n",
    "HUGECTR_MODEL_PATH = \"gs://merlin-models/hugectr_deepfm_21.09\" # Change to GCS path of the hugectr trained model."
   ]
  },
  {
   "cell_type": "code",
   "execution_count": null,
   "metadata": {},
   "outputs": [],
   "source": [
    "IMAGE_NAME = 'triton-deploy-hugectr'\n",
    "IMAGE_URI = f\"gcr.io/{PROJECT_ID}/{IMAGE_NAME}\"\n",
    "DOCKERFILE = 'src/Dockerfile.triton'"
   ]
  },
  {
   "cell_type": "code",
   "execution_count": null,
   "metadata": {},
   "outputs": [],
   "source": [
    "WORKFLOW_MODEL_PATH = \"gs://criteo-datasets/criteo_processed_parquet/workflow\" # Change to GCS path of the nvt workflow.\n",
    "HUGECTR_MODEL_PATH = \"gs://merlin-models/hugectr_deepfm_21.09\" # Change to GCS path of the hugectr trained model."
   ]
  },
  {
   "cell_type": "markdown",
   "metadata": {},
   "source": [
    "# Export Triton Ensamble model"
   ]
  },
  {
   "cell_type": "code",
   "execution_count": null,
   "metadata": {},
   "outputs": [],
   "source": [
    "if os.path.isdir(LOCAL_WORKSPACE):\n",
    "    shutil.rmtree(LOCAL_WORKSPACE)\n",
    "os.makedirs(LOCAL_WORKSPACE)\n",
    "\n",
    "!gsutil -m cp -r {WORKFLOW_MODEL_PATH} {LOCAL_WORKSPACE}\n",
    "!gsutil -m cp -r {HUGECTR_MODEL_PATH} {LOCAL_WORKSPACE}"
   ]
  },
  {
   "cell_type": "code",
   "execution_count": null,
   "metadata": {},
   "outputs": [],
   "source": [
    "NUM_SLOTS = 26\n",
    "MAX_NNZ = 2\n",
    "EMBEDDING_VECTOR_SIZE = 11\n",
    "MAX_BATCH_SIZE = 64\n",
    "\n",
    "continuous_columns = feature_utils.continuous_columns()\n",
    "categorical_columns = feature_utils.categorical_columns()\n",
    "label_columns = feature_utils.label_columns()\n",
    "num_outputs = len(label_columns)\n",
    "\n",
    "local_workflow_path = Path(LOCAL_WORKSPACE) / Path(WORKFLOW_MODEL_PATH).parts[-1]\n",
    "local_saved_model_path = Path(LOCAL_WORKSPACE) / Path(HUGECTR_MODEL_PATH).parts[-1]\n",
    "local_ensemble_path = Path(LOCAL_WORKSPACE) / f'triton-ensemble-{time.strftime(\"%Y%m%d%H%M%S\")}'\n",
    "model_repository_path = '/models'"
   ]
  },
  {
   "cell_type": "code",
   "execution_count": null,
   "metadata": {},
   "outputs": [],
   "source": [
    "export.export_ensemble(\n",
    "    model_name=MODEL_NAME,\n",
    "    workflow_path=local_workflow_path,\n",
    "    saved_model_path=local_saved_model_path,\n",
    "    output_path=local_ensemble_path,\n",
    "    categorical_columns=categorical_columns,\n",
    "    continuous_columns=continuous_columns,\n",
    "    label_columns=label_columns,\n",
    "    num_slots=NUM_SLOTS,\n",
    "    max_nnz=MAX_NNZ,\n",
    "    num_outputs=num_outputs,\n",
    "    embedding_vector_size=EMBEDDING_VECTOR_SIZE,\n",
    "    max_batch_size=MAX_BATCH_SIZE,\n",
    "    model_repository_path=model_repository_path\n",
    "    )"
   ]
  }
 ],
 "metadata": {
  "interpreter": {
   "hash": "d4d1e4263499bec80672ea0156c357c1ee493ec2b1c70f0acce89fc37c4a6abe"
  },
  "kernelspec": {
   "display_name": "Python 3.7.10 64-bit ('base': conda)",
   "language": "python",
   "name": "python3"
  },
  "language_info": {
   "codemirror_mode": {
    "name": "ipython",
    "version": 3
   },
   "file_extension": ".py",
   "mimetype": "text/x-python",
   "name": "python",
   "nbconvert_exporter": "python",
   "pygments_lexer": "ipython3",
   "version": "3.7.10"
  },
  "orig_nbformat": 4
 },
 "nbformat": 4,
 "nbformat_minor": 2
}
