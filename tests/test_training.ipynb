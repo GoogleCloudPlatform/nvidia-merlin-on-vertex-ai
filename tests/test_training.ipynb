{
 "cells": [
  {
   "cell_type": "markdown",
   "metadata": {},
   "source": [
    "# Import dataset to Bigquery\n",
    "\n",
    "For this test, only one file from Criteo dataset was uploaded (1 day).  \n",
    "These tests are run locally on a conda environment and on containers. To install the latest version of the NVTabular software, please refer to https://github.com/NVIDIA-Merlin/NVTabular."
   ]
  },
  {
   "cell_type": "code",
   "execution_count": 3,
   "metadata": {},
   "outputs": [],
   "source": [
    "# Download 1 file from Criteo website\n",
    "import os\n",
    "\n",
    "from nvtabular.utils import download_file\n",
    "\n",
    "download_criteo = True\n",
    "BASE_DIR = '~/data'\n",
    "input_path = os.path.join(BASE_DIR, \"crit_orig\")\n",
    "NUMBER_DAYS = 1"
   ]
  },
  {
   "cell_type": "code",
   "execution_count": null,
   "metadata": {},
   "outputs": [],
   "source": []
  }
 ],
 "metadata": {
  "interpreter": {
   "hash": "d4d1e4263499bec80672ea0156c357c1ee493ec2b1c70f0acce89fc37c4a6abe"
  },
  "kernelspec": {
   "display_name": "Python 3.7.10 64-bit ('base': conda)",
   "language": "python",
   "name": "python3"
  },
  "language_info": {
   "codemirror_mode": {
    "name": "ipython",
    "version": 3
   },
   "file_extension": ".py",
   "mimetype": "text/x-python",
   "name": "python",
   "nbconvert_exporter": "python",
   "pygments_lexer": "ipython3",
   "version": "3.7.10"
  },
  "orig_nbformat": 4
 },
 "nbformat": 4,
 "nbformat_minor": 2
}
