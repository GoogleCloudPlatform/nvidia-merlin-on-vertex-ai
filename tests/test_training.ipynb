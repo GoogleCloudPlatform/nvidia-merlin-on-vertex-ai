{
 "cells": [
  {
   "cell_type": "markdown",
   "metadata": {},
   "source": [
    "# Define global variables and imports"
   ]
  },
  {
   "cell_type": "code",
   "execution_count": 1,
   "metadata": {},
   "outputs": [],
   "source": [
    "import os"
   ]
  },
  {
   "cell_type": "code",
   "execution_count": 4,
   "metadata": {},
   "outputs": [],
   "source": [
    "PROJECT_ID = 'renatoleite-mldemos'\n",
    "BUCKET =  'renatoleite-nvtabular'\n",
    "\n",
    "IMAGE_VERSION = 'nightly'\n",
    "IMAGE_URI = f'gcr.io/{PROJECT_ID}/hugectr-training:{IMAGE_VERSION}'"
   ]
  },
  {
   "cell_type": "markdown",
   "metadata": {},
   "source": [
    "# Build docker image"
   ]
  },
  {
   "cell_type": "code",
   "execution_count": null,
   "metadata": {},
   "outputs": [],
   "source": [
    "! docker build -t gcr.io/$PROJECT_ID/hugectr-training:$IMAGE_VERSION -f ../src/Dockerfile.hugectr ../src/"
   ]
  },
  {
   "cell_type": "markdown",
   "metadata": {},
   "source": [
    "# Create local directory to read/write files\n",
    "\n",
    "This folder will work like a GCSfuse mount point."
   ]
  },
  {
   "cell_type": "code",
   "execution_count": 6,
   "metadata": {},
   "outputs": [
    {
     "name": "stdout",
     "output_type": "stream",
     "text": [
      "/gcs/renatoleite-nvtabular\n"
     ]
    }
   ],
   "source": [
    "BASE_DIR = f'/gcs/{BUCKET}'\n",
    "print(BASE_DIR)"
   ]
  },
  {
   "cell_type": "code",
   "execution_count": 7,
   "metadata": {},
   "outputs": [
    {
     "name": "stdout",
     "output_type": "stream",
     "text": [
      "Directory \"/gcs/renatoleite-nvtabular\" already exists\n"
     ]
    }
   ],
   "source": [
    "# Create BASE_DIR if not exists\n",
    "if not os.path.exists(BASE_DIR):\n",
    "    os.makedirs(BASE_DIR)\n",
    "    print(f'Directory \\\"{BASE_DIR}\\\" created')\n",
    "else:\n",
    "    print(f'Directory \\\"{BASE_DIR}\\\" already exists')"
   ]
  },
  {
   "cell_type": "markdown",
   "metadata": {},
   "source": [
    "# Train the model"
   ]
  },
  {
   "cell_type": "code",
   "execution_count": 8,
   "metadata": {},
   "outputs": [],
   "source": [
    "LOCAL_DEV_FOLDER = '/home/renatoleite/nvidia-merlin-on-vertex-ai/src/training/hugectr'\n",
    "LOCAL_MODEL_DIR = '/tmp/saved_model'\n",
    "LOCAL_CHECKPOINT_DIR = '/tmp/checkpoints'"
   ]
  },
  {
   "cell_type": "code",
   "execution_count": 9,
   "metadata": {},
   "outputs": [],
   "source": [
    "# Model related variables\n",
    "MODEL_NAME = 'deepfm'\n",
    "\n",
    "# Data related variables\n",
    "DATA_ROOT = f'/gcs/{BUCKET}/transformed'\n",
    "TRAIN_DATA = os.path.join(DATA_ROOT, 'train/_file_list.txt')\n",
    "VALID_DATA = os.path.join(DATA_ROOT, 'valid/_file_list.txt')\n",
    "SCHEMA_PATH = os.path.join(DATA_ROOT, 'train/schema.pbtxt')"
   ]
  },
  {
   "cell_type": "code",
   "execution_count": 10,
   "metadata": {},
   "outputs": [],
   "source": [
    "gpus = '[[0,1,2,3,4,5,6,7]]'\n",
    "\n",
    "# Training related variables\n",
    "NUM_EPOCHS = 0\n",
    "MAX_ITERATIONS = 50000\n",
    "EVAL_INTERVAL = 1000\n",
    "EVAL_BATCHES = 500\n",
    "EVAL_BATCHES_FINAL = 2500\n",
    "DISPLAY_INTERVAL = 200\n",
    "SNAPSHOT_INTERVAL = 0\n",
    "PER_GPU_BATCH_SIZE = 2048\n",
    "LR = 0.001\n",
    "DROPOUT_RATE = 0.5\n",
    "NUM_WORKERS = 12"
   ]
  },
  {
   "cell_type": "code",
   "execution_count": null,
   "metadata": {},
   "outputs": [],
   "source": [
    "# Convert Training files from CSV to Parquet\n",
    "! docker run -it --rm --gpus all \\\n",
    "-v $LOCAL_DEV_FOLDER:/tests \\\n",
    "-v $LOCAL_MODEL_DIR:$LOCAL_MODEL_DIR \\\n",
    "-v $LOCAL_CHECKPOINT_DIR:$LOCAL_CHECKPOINT_DIR \\\n",
    "-v $BASE_DIR:$BASE_DIR \\\n",
    "$IMAGE_URI \\\n",
    "python /tests/task.py \\\n",
    "--per_gpu_batch_size=$PER_GPU_BATCH_SIZE \\\n",
    "--model_name=$MODEL_NAME \\\n",
    "--train_data=$TRAIN_DATA \\\n",
    "--valid_data=$TRAIN_DATA \\\n",
    "--schema=$SCHEMA_PATH \\\n",
    "--max_iter=$MAX_ITERATIONS \\\n",
    "--max_eval_batches=$EVAL_BATCHES \\\n",
    "--eval_batches=$EVAL_BATCHES_FINAL \\\n",
    "--dropout_rate=$DROPOUT_RATE \\\n",
    "--lr=$LR \\\n",
    "--num_workers=$NUM_WORKERS \\\n",
    "--num_epochs=$NUM_EPOCHS \\\n",
    "--eval_interval=$EVAL_INTERVAL \\\n",
    "--snapshot=$SNAPSHOT_INTERVAL \\\n",
    "--display_interval=$DISPLAY_INTERVAL \\\n",
    "--gpus=$gpus"
   ]
  },
  {
   "cell_type": "code",
   "execution_count": null,
   "metadata": {},
   "outputs": [],
   "source": []
  }
 ],
 "metadata": {
  "interpreter": {
   "hash": "d4d1e4263499bec80672ea0156c357c1ee493ec2b1c70f0acce89fc37c4a6abe"
  },
  "kernelspec": {
   "display_name": "Python 3.7.10 64-bit ('base': conda)",
   "language": "python",
   "name": "python3"
  },
  "language_info": {
   "codemirror_mode": {
    "name": "ipython",
    "version": 3
   },
   "file_extension": ".py",
   "mimetype": "text/x-python",
   "name": "python",
   "nbconvert_exporter": "python",
   "pygments_lexer": "ipython3",
   "version": "3.7.10"
  },
  "orig_nbformat": 4
 },
 "nbformat": 4,
 "nbformat_minor": 2
}
